{
  "nbformat": 4,
  "nbformat_minor": 0,
  "metadata": {
    "colab": {
      "name": "laboratorio7_2_redes_bayesianas-alumnos-lab.ipynb",
      "provenance": [],
      "collapsed_sections": []
    },
    "kernelspec": {
      "name": "python3",
      "display_name": "Python 3"
    }
  },
  "cells": [
    {
      "cell_type": "markdown",
      "metadata": {
        "id": "-5udfZqv1_k1",
        "colab_type": "text"
      },
      "source": [
        "# Laboratorio 7: Redes bayesianas\n",
        "\n",
        "En el laboratorio aprenderemos a cargar una red bayesiana y a calcular probabilidades a partir de evidencia. Además, construiremos la estructura de la red a partir de los datos e implementaremos un clasificador.\n",
        "\n",
        "## A. Cargar librerías para utilizar R en Google Colab"
      ]
    },
    {
      "cell_type": "code",
      "metadata": {
        "id": "bFRWSk11z1la",
        "colab_type": "code",
        "colab": {
          "base_uri": "https://localhost:8080/"
        },
        "outputId": "25f5aa17-f0ee-4df4-f1ee-2a2d1a624fe4"
      },
      "source": [
        "%load_ext rpy2.ipython"
      ],
      "execution_count": null,
      "outputs": [
        {
          "output_type": "stream",
          "text": [
            "The rpy2.ipython extension is already loaded. To reload it, use:\n",
            "  %reload_ext rpy2.ipython\n"
          ],
          "name": "stdout"
        }
      ]
    },
    {
      "cell_type": "markdown",
      "metadata": {
        "id": "JrIpCb152CrS",
        "colab_type": "text"
      },
      "source": [
        "## B. Cargamos las librerías bnlearn y bnclassify\n",
        "\n",
        "Las librerías `bnlearn` son necesarias para trabajar con redes bayesianas."
      ]
    },
    {
      "cell_type": "code",
      "metadata": {
        "id": "LCzL8D2oz2AE",
        "colab_type": "code",
        "colab": {}
      },
      "source": [
        "%%R\n",
        "\n",
        "# Cargamos libreria de redes bayesianas\n",
        "install.packages(\"bnlearn\")\n",
        "library(bnlearn)\n",
        "\n",
        "# Librerias para clasificacion con redes bayesianas\n",
        "install.packages(\"bnclassify\")\n",
        "library(bnclassify) "
      ],
      "execution_count": null,
      "outputs": []
    },
    {
      "cell_type": "markdown",
      "metadata": {
        "id": "HRuLy4_pWTP9",
        "colab_type": "text"
      },
      "source": [
        "## C. Cargamos el archivo desde Google Drive\n",
        "\n",
        "Cargamos la base de datos que se encuentra guardada en un archivo SPSS."
      ]
    },
    {
      "cell_type": "code",
      "metadata": {
        "id": "4JPKDPq_sOub",
        "colab_type": "code",
        "colab": {}
      },
      "source": [
        "from google.colab import drive\n",
        "drive.mount('/content/drive')"
      ],
      "execution_count": null,
      "outputs": []
    },
    {
      "cell_type": "code",
      "metadata": {
        "id": "ByqdeVA1Wdtv",
        "colab_type": "code",
        "colab": {}
      },
      "source": [
        "%%R\n"
      ],
      "execution_count": null,
      "outputs": []
    },
    {
      "cell_type": "markdown",
      "metadata": {
        "id": "vwnEvvRjaN4C",
        "colab_type": "text"
      },
      "source": [
        "## D. Detectamos si existen archivos *missing*\n",
        "\n",
        "Si existen campos que no tienen valores"
      ]
    },
    {
      "cell_type": "code",
      "metadata": {
        "id": "Ypf7RgKgaMJE",
        "colab_type": "code",
        "colab": {}
      },
      "source": [
        "%%R\n"
      ],
      "execution_count": null,
      "outputs": []
    },
    {
      "cell_type": "markdown",
      "metadata": {
        "id": "O734ECApO4v9",
        "colab_type": "text"
      },
      "source": [
        "## E. Seleccionar datos para entrenamiento y pruebas\n",
        "\n",
        "Seleccionar de la base de datos el 80% de los ejemplos para entrenamiento y el 20% restante para pruebas. Considere que los conjuntos deben estar estratificados."
      ]
    },
    {
      "cell_type": "code",
      "metadata": {
        "id": "fr4EnjjjVSit",
        "colab_type": "code",
        "colab": {}
      },
      "source": [
        "%%R\n"
      ],
      "execution_count": null,
      "outputs": []
    },
    {
      "cell_type": "markdown",
      "metadata": {
        "id": "nFcUY7YWQbE2",
        "colab_type": "text"
      },
      "source": [
        "## F. Construir estructura de la red\n",
        "\n",
        "Construir la estructura de la red bayesiana utilizando Tree Augmented Naive (Tree Augmented Network), es un grafo que permite crear un clasificador de tipo Naïve.\n",
        "\n",
        "Mostrar grafo generado.\n",
        "\n",
        "### F.1. Construir estructura"
      ]
    },
    {
      "cell_type": "code",
      "metadata": {
        "id": "oqmi6AUl1lTJ",
        "colab_type": "code",
        "colab": {}
      },
      "source": [
        "%%R"
      ],
      "execution_count": null,
      "outputs": []
    },
    {
      "cell_type": "markdown",
      "metadata": {
        "id": "bRY5sNETLdyJ",
        "colab_type": "text"
      },
      "source": [
        "### F.2. Mostrar estructura generada"
      ]
    },
    {
      "cell_type": "code",
      "metadata": {
        "id": "6lhge7PJQflb",
        "colab_type": "code",
        "colab": {}
      },
      "source": [
        "%%R"
      ],
      "execution_count": null,
      "outputs": []
    },
    {
      "cell_type": "markdown",
      "metadata": {
        "id": "uV_d3OmyQ14S",
        "colab_type": "text"
      },
      "source": [
        "## G. Ajustar la estructura de la red bayesiana con los datos de entrenamiento\n",
        "\n",
        "Una vez construida la estructura de la red, se deben ajustar CPT con los datos del conjunto de entrenamiento. Este paso es importante para poder clasificar, posteriormente, los datos de pruebas."
      ]
    },
    {
      "cell_type": "code",
      "metadata": {
        "id": "5EsEF9VIQ2ep",
        "colab_type": "code",
        "colab": {}
      },
      "source": [
        "%%R\n"
      ],
      "execution_count": null,
      "outputs": []
    },
    {
      "cell_type": "markdown",
      "metadata": {
        "id": "H0YLfyTnuy0Z",
        "colab_type": "text"
      },
      "source": [
        "## H. Clasificar el conjunto de pruebas\n",
        "\n",
        "Probabilidades"
      ]
    },
    {
      "cell_type": "code",
      "metadata": {
        "id": "yZYMWmdxRBlS",
        "colab_type": "code",
        "colab": {}
      },
      "source": [
        "%%R\n",
        "pred.prob.tn <- predict(tan.detcot, df_clear, prob=TRUE)"
      ],
      "execution_count": null,
      "outputs": []
    },
    {
      "cell_type": "markdown",
      "metadata": {
        "id": "6U98IJoUvLbS",
        "colab_type": "text"
      },
      "source": [
        "Clases"
      ]
    },
    {
      "cell_type": "code",
      "metadata": {
        "id": "Kl6t41ZtYDhl",
        "colab_type": "code",
        "colab": {}
      },
      "source": [
        "%%R\n",
        "pred.class.tn <- predict(tan.detcot, df_clear, prob=FALSE)"
      ],
      "execution_count": null,
      "outputs": []
    },
    {
      "cell_type": "markdown",
      "metadata": {
        "id": "z9_gFMcyiVzW",
        "colab_type": "text"
      },
      "source": [
        "Guardar los datos"
      ]
    },
    {
      "cell_type": "code",
      "metadata": {
        "id": "_AjKcqDgi3K8",
        "colab_type": "code",
        "colab": {}
      },
      "source": [
        "%%R\n",
        "\n",
        "## Guardar los resultados en un csv\n",
        "db.tan.id <- cbind(df_clear_id$ID, db.tan)\n",
        "write.csv2(db.tan.id, \"archivo.csv\", row.names=TRUE)"
      ],
      "execution_count": null,
      "outputs": []
    },
    {
      "cell_type": "markdown",
      "metadata": {
        "id": "YMVkITvRvZg8",
        "colab_type": "text"
      },
      "source": [
        "## I. Evaluar la eficiencia del modelo con resultados obtenidos\n",
        "\n",
        "Calcular la matriz de confusión y calcular las siguientes métricas:\n",
        "\n",
        "*   Tasa de acierto\n",
        "*   Precisión \n",
        "*   Especificidad\n",
        "*   F-1\n",
        "\n",
        "### I.1 Mostrar matriz de confusión\n",
        "Calcular y mostrar la matriz de confusión. (Opcional, mostrar la matriz graficamente)"
      ]
    },
    {
      "cell_type": "code",
      "metadata": {
        "id": "VzMhXMevZjuy",
        "colab_type": "code",
        "colab": {}
      },
      "source": [
        "%%R\n"
      ],
      "execution_count": null,
      "outputs": []
    },
    {
      "cell_type": "markdown",
      "metadata": {
        "id": "yWBuEKW6en3Q",
        "colab_type": "text"
      },
      "source": [
        "### I.2 Mostrar resultados de las métricas\n",
        "\n",
        "Calcular y mostar el resultado obtenido de las métricas.\n"
      ]
    },
    {
      "cell_type": "code",
      "metadata": {
        "id": "GhBPYo8XfsEh",
        "colab_type": "code",
        "colab": {}
      },
      "source": [
        "%%R\n"
      ],
      "execution_count": null,
      "outputs": []
    },
    {
      "cell_type": "markdown",
      "metadata": {
        "id": "isN0Ki6xh-kz",
        "colab_type": "text"
      },
      "source": [
        "## J. Discutir los resultados\n",
        "\n",
        "*    Estructura de la red obtenida. Dependencias e independencias condicionales.\n",
        "*    Resultados obtenidos en la clasificación.\n"
      ]
    },
    {
      "cell_type": "markdown",
      "metadata": {
        "id": "CqSRVUGPNma9",
        "colab_type": "text"
      },
      "source": [
        "### J.1. RESULTADOS\n",
        "\n",
        "<Escriba aquí los resultados obtenidos>"
      ]
    },
    {
      "cell_type": "markdown",
      "metadata": {
        "id": "d4Cm2cmBN9Zj",
        "colab_type": "text"
      },
      "source": [
        "## L. CONCLUISIONES\n",
        "\n",
        "<Escriba aquí sus conclusiones>"
      ]
    }
  ]
}