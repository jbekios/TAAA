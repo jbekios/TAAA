{
  "nbformat": 4,
  "nbformat_minor": 0,
  "metadata": {
    "colab": {
      "name": "laboratorio7.1-intro-a-R-alumno.ipynb",
      "provenance": []
    },
    "kernelspec": {
      "name": "python3",
      "display_name": "Python 3"
    }
  },
  "cells": [
    {
      "cell_type": "markdown",
      "metadata": {
        "id": "-5udfZqv1_k1",
        "colab_type": "text"
      },
      "source": [
        "# Laboratorio 7.1: Introducción a R y redes bayesianas\n",
        "\n",
        "En el laboratorio aprenderemos a cargar una archivo desde google drive. A partir del dataframe generado se realizará algunos gráficos para entender el uso de algunas librerías básicas.\n",
        "\n",
        "## A. Introducción\n",
        "\n",
        "### 1. Montamos google drive"
      ]
    },
    {
      "cell_type": "code",
      "metadata": {
        "id": "6fJLmOFcz0go",
        "colab_type": "code",
        "colab": {}
      },
      "source": [
        "from google.colab import drive\n",
        "drive.mount('/content/drive')"
      ],
      "execution_count": null,
      "outputs": []
    },
    {
      "cell_type": "markdown",
      "metadata": {
        "id": "-pC4hFdJMMmM",
        "colab_type": "text"
      },
      "source": [
        "2. Cargamos librerías para poder ejecutar código Python y código en R\n",
        "\n",
        "Para ejecutar código Python se utiliza las caja de códigos de siempre. En el caso de usar código R se debe colocar al comienzo de la caja de código %%R para indicar que el Kernel que se va a utilizar es para interpretar R."
      ]
    },
    {
      "cell_type": "markdown",
      "metadata": {
        "id": "oaSziouj2Btr",
        "colab_type": "text"
      },
      "source": [
        ""
      ]
    },
    {
      "cell_type": "code",
      "metadata": {
        "id": "bFRWSk11z1la",
        "colab_type": "code",
        "colab": {}
      },
      "source": [
        "%load_ext rpy2.ipython"
      ],
      "execution_count": null,
      "outputs": []
    },
    {
      "cell_type": "markdown",
      "metadata": {
        "id": "JrIpCb152CrS",
        "colab_type": "text"
      },
      "source": [
        "### 2. Cargar datos desde un archivo en google drive\n",
        "\n",
        "El primer ejercicio consiste en cargar la base de datos `iris.cvs` utilizada en clases."
      ]
    },
    {
      "cell_type": "code",
      "metadata": {
        "id": "LCzL8D2oz2AE",
        "colab_type": "code",
        "colab": {}
      },
      "source": [
        "%%R\n",
        "# Cargar la base de datos\n"
      ],
      "execution_count": null,
      "outputs": []
    },
    {
      "cell_type": "code",
      "metadata": {
        "id": "LE2-wU-XTz0b",
        "colab_type": "code",
        "colab": {}
      },
      "source": [
        "%%R\n",
        "# Resumen de las columnas en una tabla\n"
      ],
      "execution_count": null,
      "outputs": []
    },
    {
      "cell_type": "code",
      "metadata": {
        "id": "aFjlTNJsUDr9",
        "colab_type": "code",
        "colab": {}
      },
      "source": [
        "%%R\n",
        "# Representación textual de un objeto\n"
      ],
      "execution_count": null,
      "outputs": []
    },
    {
      "cell_type": "code",
      "metadata": {
        "id": "J4OzDtH4USUA",
        "colab_type": "code",
        "colab": {}
      },
      "source": [
        "%%R\n",
        "# Número de dimensiones del dataframe\n"
      ],
      "execution_count": null,
      "outputs": []
    },
    {
      "cell_type": "code",
      "metadata": {
        "id": "Ncx5ci4AUSfF",
        "colab_type": "code",
        "colab": {}
      },
      "source": [
        "%%R\n",
        "# Número de columnas del dataframe\n"
      ],
      "execution_count": null,
      "outputs": []
    },
    {
      "cell_type": "code",
      "metadata": {
        "id": "SqF7INeGUSCF",
        "colab_type": "code",
        "colab": {}
      },
      "source": [
        "%%R\n",
        "# Número de filas del dataframe\n"
      ],
      "execution_count": null,
      "outputs": []
    },
    {
      "cell_type": "markdown",
      "metadata": {
        "id": "HRuLy4_pWTP9",
        "colab_type": "text"
      },
      "source": [
        "### Función tapply\n",
        "\n",
        "Función que aplica una función de orden superior a un conjunto de datos."
      ]
    },
    {
      "cell_type": "code",
      "metadata": {
        "id": "ByqdeVA1Wdtv",
        "colab_type": "code",
        "colab": {}
      },
      "source": [
        "%%R\n"
      ],
      "execution_count": null,
      "outputs": []
    },
    {
      "cell_type": "markdown",
      "metadata": {
        "id": "Te3Nq0-xNHv7",
        "colab_type": "text"
      },
      "source": [
        "### 3. Graficar los datos\n",
        "\n",
        "Cargamos las librerías:\n",
        "\n",
        "*   **foreign:**\n",
        "*   **ggplot2:**\n",
        "*   **psych:**\n",
        "\n"
      ]
    },
    {
      "cell_type": "markdown",
      "metadata": {
        "id": "O734ECApO4v9",
        "colab_type": "text"
      },
      "source": [
        "### Graficamos los datos \n",
        "\n",
        "Una operación útil es graficar un histograma"
      ]
    },
    {
      "cell_type": "code",
      "metadata": {
        "id": "fr4EnjjjVSit",
        "colab_type": "code",
        "colab": {}
      },
      "source": [
        "%%R\n"
      ],
      "execution_count": null,
      "outputs": []
    },
    {
      "cell_type": "markdown",
      "metadata": {
        "id": "W22Uptp7uc3-",
        "colab_type": "text"
      },
      "source": [
        "También graficar diagramas de dispersión (sepal_length vs sepal_width)"
      ]
    },
    {
      "cell_type": "code",
      "metadata": {
        "id": "9yURthEmO4TT",
        "colab_type": "code",
        "colab": {}
      },
      "source": [
        "%%R\n"
      ],
      "execution_count": null,
      "outputs": []
    },
    {
      "cell_type": "markdown",
      "metadata": {
        "id": "nFcUY7YWQbE2",
        "colab_type": "text"
      },
      "source": [
        "Otra forma es indicando el nombre de la columna."
      ]
    },
    {
      "cell_type": "code",
      "metadata": {
        "id": "6lhge7PJQflb",
        "colab_type": "code",
        "colab": {}
      },
      "source": [
        "%%R\n"
      ],
      "execution_count": null,
      "outputs": []
    },
    {
      "cell_type": "markdown",
      "metadata": {
        "id": "uV_d3OmyQ14S",
        "colab_type": "text"
      },
      "source": [
        "Mostrar los nombres de las columnas del dataframe"
      ]
    },
    {
      "cell_type": "code",
      "metadata": {
        "id": "5EsEF9VIQ2ep",
        "colab_type": "code",
        "colab": {}
      },
      "source": [
        "%%R"
      ],
      "execution_count": null,
      "outputs": []
    },
    {
      "cell_type": "markdown",
      "metadata": {
        "id": "H0YLfyTnuy0Z",
        "colab_type": "text"
      },
      "source": [
        "Mostrar matriz de dispersión"
      ]
    },
    {
      "cell_type": "code",
      "metadata": {
        "id": "yZYMWmdxRBlS",
        "colab_type": "code",
        "colab": {}
      },
      "source": [
        "%%R\n",
        "\n"
      ],
      "execution_count": null,
      "outputs": []
    },
    {
      "cell_type": "markdown",
      "metadata": {
        "id": "6U98IJoUvLbS",
        "colab_type": "text"
      },
      "source": [
        "Graficamos mostrando los colores por clase"
      ]
    },
    {
      "cell_type": "code",
      "metadata": {
        "id": "Kl6t41ZtYDhl",
        "colab_type": "code",
        "colab": {}
      },
      "source": [
        "%%R\n"
      ],
      "execution_count": null,
      "outputs": []
    },
    {
      "cell_type": "markdown",
      "metadata": {
        "id": "YMVkITvRvZg8",
        "colab_type": "text"
      },
      "source": [
        "Calculamos una regresión lineal"
      ]
    },
    {
      "cell_type": "code",
      "metadata": {
        "id": "VzMhXMevZjuy",
        "colab_type": "code",
        "colab": {}
      },
      "source": [
        "%%R\n"
      ],
      "execution_count": null,
      "outputs": []
    },
    {
      "cell_type": "markdown",
      "metadata": {
        "id": "yWBuEKW6en3Q",
        "colab_type": "text"
      },
      "source": [
        "## B. Redes Bayesianas\n",
        "\n",
        "Revisaremos conceptos como:\n",
        "\n",
        "*   Representación\n",
        "*   Razonamiento\n",
        "*   Inferencia\n",
        "*   Aprendizaje\n",
        "*   Clasificadores\n",
        "\n",
        "### 1. Modelos de redes bayesianas"
      ]
    },
    {
      "cell_type": "code",
      "metadata": {
        "id": "GhBPYo8XfsEh",
        "colab_type": "code",
        "colab": {}
      },
      "source": [
        "%%R\n",
        "\n",
        "# Cargamos libreria de redes bayesianas\n",
        "install.packages(\"bnlearn\")\n",
        "library(bnlearn)"
      ],
      "execution_count": null,
      "outputs": []
    },
    {
      "cell_type": "markdown",
      "metadata": {
        "id": "isN0Ki6xh-kz",
        "colab_type": "text"
      },
      "source": [
        "#### Creamos un grafo desde **cero**"
      ]
    },
    {
      "cell_type": "code",
      "metadata": {
        "id": "jaqas3PSgjQs",
        "colab_type": "code",
        "colab": {}
      },
      "source": [
        "%%R \n",
        "\n",
        "# Creo un grafo como el visto en clases\n"
      ],
      "execution_count": null,
      "outputs": []
    },
    {
      "cell_type": "markdown",
      "metadata": {
        "id": "z9_gFMcyiVzW",
        "colab_type": "text"
      },
      "source": [
        "#### Modificamos el grafo\n",
        "\n",
        "*   Quitamos el arco entre el nodo \"Terremoto\" y \"Noticias\".\n",
        "*   Cambiamos la dirección entre el arco \"Alarma\" y \"Robo\".\n",
        "*   Agregarmos el archo entre \"Terremoto\" y \"Robo\".\n",
        "\n"
      ]
    },
    {
      "cell_type": "code",
      "metadata": {
        "id": "_AjKcqDgi3K8",
        "colab_type": "code",
        "colab": {}
      },
      "source": [
        "%%R\n",
        "\n",
        "# Quitamos el arco entre el nodo \"Terremoto\" y \"Noticias\"\n"
      ],
      "execution_count": null,
      "outputs": []
    },
    {
      "cell_type": "code",
      "metadata": {
        "id": "UbNFcyZ2i4B9",
        "colab_type": "code",
        "colab": {}
      },
      "source": [
        "%%R\n",
        "\n",
        "# Cambiamos la dirección entre el arco \"Alarma\" y \"Robo\".\n"
      ],
      "execution_count": null,
      "outputs": []
    },
    {
      "cell_type": "code",
      "metadata": {
        "id": "BAoStfthi31l",
        "colab_type": "code",
        "colab": {}
      },
      "source": [
        "%%R\n",
        "\n",
        "# Agregamos el arco entre \"Terremoto\" y \"Robo\".\n"
      ],
      "execution_count": null,
      "outputs": []
    },
    {
      "cell_type": "markdown",
      "metadata": {
        "id": "imMhyS04kD7L",
        "colab_type": "text"
      },
      "source": [
        "#### Agregar un arco entre Watson y Terremoto\n",
        "\n"
      ]
    },
    {
      "cell_type": "code",
      "metadata": {
        "id": "Yr0aehsskPHX",
        "colab_type": "code",
        "colab": {}
      },
      "source": [
        "%%R\n",
        "\n",
        "# Agregamos el arco entre \"Watson\" y \"Terremoto\".\n"
      ],
      "execution_count": null,
      "outputs": []
    },
    {
      "cell_type": "markdown",
      "metadata": {
        "id": "XaNg7YTKlHyo",
        "colab_type": "text"
      },
      "source": [
        "#### Imprimimos el grafo para ver información\n",
        "\n",
        "En algunas ocasiones el grafo es demasiado grande y es conveniente imprimir el modelo en formato de *string*."
      ]
    },
    {
      "cell_type": "code",
      "metadata": {
        "id": "QejmZza8lPY-",
        "colab_type": "code",
        "colab": {}
      },
      "source": [
        "%%R\n"
      ],
      "execution_count": null,
      "outputs": []
    },
    {
      "cell_type": "markdown",
      "metadata": {
        "id": "s3dGRtC2lve0",
        "colab_type": "text"
      },
      "source": [
        "#### Preguntas sobre los nodos en el grafo\n",
        "\n",
        "Nodos cercanos (vecinos)"
      ]
    },
    {
      "cell_type": "code",
      "metadata": {
        "id": "u8xpOxC6mgAj",
        "colab_type": "code",
        "colab": {}
      },
      "source": [
        "%%R\n"
      ],
      "execution_count": null,
      "outputs": []
    },
    {
      "cell_type": "code",
      "metadata": {
        "id": "CzZIRn8fl7JA",
        "colab_type": "code",
        "colab": {}
      },
      "source": [
        "%%R\n"
      ],
      "execution_count": null,
      "outputs": []
    },
    {
      "cell_type": "markdown",
      "metadata": {
        "id": "ELSTITA0mN6-",
        "colab_type": "text"
      },
      "source": [
        "Nodos padres"
      ]
    },
    {
      "cell_type": "code",
      "metadata": {
        "id": "DDpb5eHTmROI",
        "colab_type": "code",
        "colab": {}
      },
      "source": [
        "%%R\n"
      ],
      "execution_count": null,
      "outputs": []
    },
    {
      "cell_type": "markdown",
      "metadata": {
        "id": "EGUBjyK1mt24",
        "colab_type": "text"
      },
      "source": [
        "Nodos hijos"
      ]
    },
    {
      "cell_type": "code",
      "metadata": {
        "id": "9LTYmmTOmwKe",
        "colab_type": "code",
        "colab": {}
      },
      "source": [
        "%%R\n"
      ],
      "execution_count": null,
      "outputs": []
    },
    {
      "cell_type": "markdown",
      "metadata": {
        "id": "Cq3rHxAwn4KK",
        "colab_type": "text"
      },
      "source": [
        "Manto de Markov"
      ]
    },
    {
      "cell_type": "code",
      "metadata": {
        "id": "P7GlhGqqn6wK",
        "colab_type": "code",
        "colab": {}
      },
      "source": [
        "%%R\n"
      ],
      "execution_count": null,
      "outputs": []
    },
    {
      "cell_type": "markdown",
      "metadata": {
        "id": "TWHdBNdzojI8",
        "colab_type": "text"
      },
      "source": [
        "#### Arcos"
      ]
    },
    {
      "cell_type": "code",
      "metadata": {
        "id": "uua_d6OIomG7",
        "colab_type": "code",
        "colab": {}
      },
      "source": [
        "%%R\n"
      ],
      "execution_count": null,
      "outputs": []
    },
    {
      "cell_type": "markdown",
      "metadata": {
        "id": "miF0dmTBm4nJ",
        "colab_type": "text"
      },
      "source": [
        "#### Destacando nodos y arcos"
      ]
    },
    {
      "cell_type": "code",
      "metadata": {
        "id": "yCVIDpCWnZtg",
        "colab_type": "code",
        "colab": {}
      },
      "source": [
        "%%R\n"
      ],
      "execution_count": null,
      "outputs": []
    },
    {
      "cell_type": "markdown",
      "metadata": {
        "id": "QBvxnyozozvb",
        "colab_type": "text"
      },
      "source": [
        "#### Cargar la red bayesiana especificando las TPC"
      ]
    },
    {
      "cell_type": "code",
      "metadata": {
        "id": "dHUe9XZOo0VB",
        "colab_type": "code",
        "colab": {}
      },
      "source": [
        "%%R\n",
        "\n",
        "yn <- c(\"yes\", \"no\")\n",
        "R <- array(dimnames = list(Robo = yn), dim = 2, c(0.30, 0.70))\n",
        "T <- array(dimnames = list(Terremoto = yn), dim=2, c(0.35, 0.65))\n",
        "A <- array(dimnames = list(Alarma = yn, Terremoto = yn, Robo = yn), \n",
        "           dim = c(2, 2, 2), \n",
        "           c(0.95,0.05,0.90,0.10,0.60,0.40,0.01,0.99))\n",
        "W <- array(dimnames = list(Watson = yn, Alarma = yn),\n",
        "           dim = c(2, 2),\n",
        "           c(0.80,0.20,0.40,0.60))\n",
        "N <- array(dimnames = list(Noticias = yn, Terremoto = yn),\n",
        "           dim = c(2, 2),\n",
        "           c(0.60,0.40,0.01,0.99))\n",
        "cpts <- list(Robo = R, Terremoto = T, Alarma = A, Watson = W, Noticias = N)\n",
        "bl.alarma.fit <- custom.fit(bl.alarma, cpts)\n",
        "\n",
        "bl.alarma.fit$Terremoto"
      ],
      "execution_count": null,
      "outputs": []
    },
    {
      "cell_type": "code",
      "metadata": {
        "id": "U3LQE5CUs-t-",
        "colab_type": "code",
        "colab": {}
      },
      "source": [
        "%%R\n",
        "\n"
      ],
      "execution_count": null,
      "outputs": []
    },
    {
      "cell_type": "code",
      "metadata": {
        "id": "URRusZ6TtNJQ",
        "colab_type": "code",
        "colab": {}
      },
      "source": [
        "%%R\n"
      ],
      "execution_count": null,
      "outputs": []
    },
    {
      "cell_type": "code",
      "metadata": {
        "id": "mdAPXbxxtYvX",
        "colab_type": "code",
        "colab": {}
      },
      "source": [
        "%%R\n"
      ],
      "execution_count": null,
      "outputs": []
    }
  ]
}