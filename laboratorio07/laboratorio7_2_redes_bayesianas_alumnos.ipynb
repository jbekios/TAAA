{
  "nbformat": 4,
  "nbformat_minor": 0,
  "metadata": {
    "colab": {
      "name": "laboratorio7_2_redes_bayesianas-alumnos.ipynb",
      "provenance": [],
      "collapsed_sections": []
    },
    "kernelspec": {
      "name": "python3",
      "display_name": "Python 3"
    }
  },
  "cells": [
    {
      "cell_type": "markdown",
      "metadata": {
        "id": "-5udfZqv1_k1",
        "colab_type": "text"
      },
      "source": [
        "# Laboratorio 7.2: Redes bayesianas\n",
        "\n",
        "En el laboratorio aprenderemos a cargar una red bayesiana y a calcular probabilidades a partir de evidencia. Además, construiremos la estructura de la red a partir de los datos e implementaremos un clasificador.\n",
        "\n",
        "## A. Inferencia\n",
        "\n",
        "## 1. Cargamos las librerías para trabajar con R"
      ]
    },
    {
      "cell_type": "code",
      "metadata": {
        "id": "bFRWSk11z1la",
        "colab_type": "code",
        "colab": {
          "base_uri": "https://localhost:8080/"
        },
        "outputId": "25f5aa17-f0ee-4df4-f1ee-2a2d1a624fe4"
      },
      "source": [
        "%load_ext rpy2.ipython"
      ],
      "execution_count": null,
      "outputs": [
        {
          "output_type": "stream",
          "text": [
            "The rpy2.ipython extension is already loaded. To reload it, use:\n",
            "  %reload_ext rpy2.ipython\n"
          ],
          "name": "stdout"
        }
      ]
    },
    {
      "cell_type": "markdown",
      "metadata": {
        "id": "JrIpCb152CrS",
        "colab_type": "text"
      },
      "source": [
        "## 2. Cargamos las librerías bnlearn y bnclassify\n",
        "\n",
        "Las librerías `bnlearn` son necesarias para trabajar con redes bayesianas."
      ]
    },
    {
      "cell_type": "code",
      "metadata": {
        "id": "LCzL8D2oz2AE",
        "colab_type": "code",
        "colab": {}
      },
      "source": [
        "%%R\n",
        "\n",
        "# Cargamos libreria de redes bayesianas\n",
        "install.packages(\"bnlearn\")\n",
        "library(bnlearn)\n",
        "\n",
        "# Librerias para clasificacion con redes bayesianas\n",
        "install.packages(\"bnclassify\")\n",
        "library(bnclassify) "
      ],
      "execution_count": null,
      "outputs": []
    },
    {
      "cell_type": "code",
      "metadata": {
        "id": "MJiqMRzGdQjo",
        "colab_type": "code",
        "colab": {}
      },
      "source": [
        "%%R\n",
        "library(foreign) # Lee archivos SPSS"
      ],
      "execution_count": null,
      "outputs": []
    },
    {
      "cell_type": "markdown",
      "metadata": {
        "id": "HRuLy4_pWTP9",
        "colab_type": "text"
      },
      "source": [
        "### 3. Cargamos el archivo desde Google Drive\n",
        "\n",
        "Cargamos la base de datos que se encuentra guardada en un archivo SPSS."
      ]
    },
    {
      "cell_type": "code",
      "metadata": {
        "id": "4JPKDPq_sOub",
        "colab_type": "code",
        "colab": {}
      },
      "source": [
        "from google.colab import drive\n",
        "drive.mount('/content/drive')"
      ],
      "execution_count": null,
      "outputs": []
    },
    {
      "cell_type": "code",
      "metadata": {
        "id": "ByqdeVA1Wdtv",
        "colab_type": "code",
        "colab": {}
      },
      "source": [
        "%%R\n",
        "# Borrar las variables del ambiente\n",
        "rm(list=ls())\n",
        "\n",
        "## Fijar mi path raiz\n",
        "setwd('/content/drive/My Drive/D-UCN/Projects/2020/Propuestos/Psicologia-DeterioroCognitivo/Data/DatosOrientacionMemoria-20200629')\n",
        "name.file <- 'Base FONIS orietacion memoria.sav'\n",
        "\n",
        "dataset <- read.spss(name.file, to.data.frame=TRUE)\n",
        "\n",
        "names(dataset)"
      ],
      "execution_count": null,
      "outputs": []
    },
    {
      "cell_type": "markdown",
      "metadata": {
        "id": "vwnEvvRjaN4C",
        "colab_type": "text"
      },
      "source": [
        "### 4. Detectamos si existen archivos *missing*\n",
        "\n",
        "Si existen campos que no tienen valores"
      ]
    },
    {
      "cell_type": "code",
      "metadata": {
        "id": "Ypf7RgKgaMJE",
        "colab_type": "code",
        "colab": {}
      },
      "source": [
        "%%R\n",
        "# Detectar filas missing y eliminar\n",
        "df_clear_id <- na.omit(dataset)\n",
        "print(sprintf(\"Número de filas sin missing: %d\",nrow(df_clear_id)))\n",
        "print(sprintf(\"Número de filas perdidas: %d\",nrow(dataset) - nrow(df_clear_id)))\n",
        "anyNA(df_clear_id)"
      ],
      "execution_count": null,
      "outputs": []
    },
    {
      "cell_type": "markdown",
      "metadata": {
        "id": "Te3Nq0-xNHv7",
        "colab_type": "text"
      },
      "source": [
        "### 5. Elimino el identificador ID\n",
        "\n",
        "El identificador ID es solo un número correlativo y no  es necesario para la clasificación\n",
        "\n"
      ]
    },
    {
      "cell_type": "code",
      "metadata": {
        "id": "sqhifqObuhMs",
        "colab_type": "code",
        "colab": {}
      },
      "source": [
        "%%R\n",
        "# Elimino el identificador \n",
        "df.clear <- df_clear_id[, !(names(df_clear_id) %in% c('ID'))]\n",
        "\n",
        "print(names(df.clear))"
      ],
      "execution_count": null,
      "outputs": []
    },
    {
      "cell_type": "code",
      "metadata": {
        "id": "cs8OKKTDuosq",
        "colab_type": "code",
        "colab": {}
      },
      "source": [
        "%%R\n",
        "!(names(df_clear_id) %in% c('ID'))"
      ],
      "execution_count": null,
      "outputs": []
    },
    {
      "cell_type": "markdown",
      "metadata": {
        "id": "O734ECApO4v9",
        "colab_type": "text"
      },
      "source": [
        "### 6. Transformo las columnas numéricas a factores\n",
        "\n",
        "Para que la red bayesiana sea reconocida como discreta debo dejar sus valores como factores.\n",
        "\n",
        "`lapply()` intentará coercionar a una lista el objeto que demos como argumento y después aplicará una función a todos sus elementos."
      ]
    },
    {
      "cell_type": "code",
      "metadata": {
        "id": "fr4EnjjjVSit",
        "colab_type": "code",
        "colab": {}
      },
      "source": [
        "%%R\n",
        "# Transformaciones de las columnas a factores\n",
        "col.names <- names(df.clear)\n",
        "df.clear[, col.names] <- lapply(df.clear[, col.names], factor)"
      ],
      "execution_count": null,
      "outputs": []
    },
    {
      "cell_type": "code",
      "metadata": {
        "id": "O_0nK5LlvSko",
        "colab_type": "code",
        "colab": {}
      },
      "source": [
        "%%R\n",
        "str(df.clear)"
      ],
      "execution_count": null,
      "outputs": []
    },
    {
      "cell_type": "markdown",
      "metadata": {
        "id": "W22Uptp7uc3-",
        "colab_type": "text"
      },
      "source": [
        "### 7. Elimino aquellas columnas que no son necesarias para el experimento\n",
        "\n"
      ]
    },
    {
      "cell_type": "code",
      "metadata": {
        "id": "2ji5Zr3UvQiK",
        "colab_type": "code",
        "colab": {}
      },
      "source": [
        "%%R\n",
        "drops <- c('GDS', 'GDS_R2', 'GDS_R2')\n",
        "df.clear <- df.clear[, !(names(df.clear) %in% drops)]\n",
        "df.clear"
      ],
      "execution_count": null,
      "outputs": []
    },
    {
      "cell_type": "code",
      "metadata": {
        "id": "9yURthEmO4TT",
        "colab_type": "code",
        "colab": {}
      },
      "source": [
        "%%R\n",
        "!(names(df.clear) %in% drops)"
      ],
      "execution_count": null,
      "outputs": []
    },
    {
      "cell_type": "markdown",
      "metadata": {
        "id": "nFcUY7YWQbE2",
        "colab_type": "text"
      },
      "source": [
        "### 8. Construir estructura de la red\n",
        "\n",
        "Tree Augmented Naive (Tree Augmented Network), es un grafo que permite crear un clasificador Naïve."
      ]
    },
    {
      "cell_type": "code",
      "metadata": {
        "id": "oqmi6AUl1lTJ",
        "colab_type": "code",
        "colab": {}
      },
      "source": [
        "%%R\n",
        "if (!requireNamespace(\"BiocManager\", quietly = TRUE))\n",
        "    install.packages(\"BiocManager\")\n",
        "\n",
        "BiocManager::install(\"graph\")\n",
        "BiocManager::install(\"Rgraphviz\")"
      ],
      "execution_count": null,
      "outputs": []
    },
    {
      "cell_type": "code",
      "metadata": {
        "id": "6lhge7PJQflb",
        "colab_type": "code",
        "colab": {}
      },
      "source": [
        "%%R\n",
        "library(\"Rgraphviz\")\n",
        "# Clasificacion \n",
        "# Construir la estructura de la red\n",
        "tan.detcog <- tan_cl(class='GDS_R1', df.clear)\n",
        "plot(tan.detcog)"
      ],
      "execution_count": null,
      "outputs": []
    },
    {
      "cell_type": "markdown",
      "metadata": {
        "id": "uV_d3OmyQ14S",
        "colab_type": "text"
      },
      "source": [
        "Proceso de aprendizaje de la red."
      ]
    },
    {
      "cell_type": "code",
      "metadata": {
        "id": "5EsEF9VIQ2ep",
        "colab_type": "code",
        "colab": {}
      },
      "source": [
        "%%R\n",
        "tan.detcog <- lp(tan.decog, df.clear, smooth= 0.01)"
      ],
      "execution_count": null,
      "outputs": []
    },
    {
      "cell_type": "markdown",
      "metadata": {
        "id": "H0YLfyTnuy0Z",
        "colab_type": "text"
      },
      "source": [
        "### 9. Predicción\n",
        "\n",
        "Probabilidades"
      ]
    },
    {
      "cell_type": "code",
      "metadata": {
        "id": "yZYMWmdxRBlS",
        "colab_type": "code",
        "colab": {}
      },
      "source": [
        "%%R\n",
        "pred.prob.tn <- predict(tan.detcot, df_clear, prob=TRUE)"
      ],
      "execution_count": null,
      "outputs": []
    },
    {
      "cell_type": "markdown",
      "metadata": {
        "id": "6U98IJoUvLbS",
        "colab_type": "text"
      },
      "source": [
        "Clases"
      ]
    },
    {
      "cell_type": "code",
      "metadata": {
        "id": "Kl6t41ZtYDhl",
        "colab_type": "code",
        "colab": {}
      },
      "source": [
        "%%R\n",
        "pred.class.tn <- predict(tan.detcot, df_clear, prob=FALSE)"
      ],
      "execution_count": null,
      "outputs": []
    },
    {
      "cell_type": "markdown",
      "metadata": {
        "id": "YMVkITvRvZg8",
        "colab_type": "text"
      },
      "source": [
        "### 10. Guardo los resultados en formato tabla"
      ]
    },
    {
      "cell_type": "code",
      "metadata": {
        "id": "VzMhXMevZjuy",
        "colab_type": "code",
        "colab": {}
      },
      "source": [
        "%%R\n",
        "db.tan <- cbind(df.clear, pred.prob.tn, pred.class.tn)"
      ],
      "execution_count": null,
      "outputs": []
    },
    {
      "cell_type": "markdown",
      "metadata": {
        "id": "yWBuEKW6en3Q",
        "colab_type": "text"
      },
      "source": [
        "### 11. Calculo la matriz de confusión\n"
      ]
    },
    {
      "cell_type": "code",
      "metadata": {
        "id": "GhBPYo8XfsEh",
        "colab_type": "code",
        "colab": {}
      },
      "source": [
        "%%R\n",
        "cm.tan <- table(predicted=pred.class.tn, true=df.clear$GDS_R1)\n",
        "n = sum(cm.tan) # Número de instacias\n",
        "nc = nrow(cm.tan) # Numero de clases\n",
        "diag = diag(cm.tan) # Número de clases correctamente clasificadas\n",
        "rowsum = apply(cm.tan, 1, sum) # Número de instancias por clase\n",
        "colsum = apply(cm.tan, 2, sum) # Número de predicciones por clase"
      ],
      "execution_count": null,
      "outputs": []
    },
    {
      "cell_type": "markdown",
      "metadata": {
        "id": "isN0Ki6xh-kz",
        "colab_type": "text"
      },
      "source": [
        "#### 12. Calculamos algunas métricas\n"
      ]
    },
    {
      "cell_type": "code",
      "metadata": {
        "id": "jaqas3PSgjQs",
        "colab_type": "code",
        "colab": {}
      },
      "source": [
        "%%R \n",
        "accuracy = sum(diag) / n\n",
        "precision = diag / colsum\n",
        "recall = dia / rowsums\n",
        "f1 = 2 * precision * recall / (precision + recall)\n",
        "\n",
        "print(data.frame(precision, recall, f1))"
      ],
      "execution_count": null,
      "outputs": []
    },
    {
      "cell_type": "code",
      "metadata": {
        "id": "jJGbdD3K3j0M",
        "colab_type": "code",
        "colab": {}
      },
      "source": [
        "%%R\n",
        "# Otra forma de calcular las métricas\n",
        "print(bnclassify::accuracy(pred.class.tn, df.clear$GDS_R1))"
      ],
      "execution_count": null,
      "outputs": []
    },
    {
      "cell_type": "markdown",
      "metadata": {
        "id": "z9_gFMcyiVzW",
        "colab_type": "text"
      },
      "source": [
        "### 13. Guardar los datos"
      ]
    },
    {
      "cell_type": "code",
      "metadata": {
        "id": "_AjKcqDgi3K8",
        "colab_type": "code",
        "colab": {}
      },
      "source": [
        "%%R\n",
        "\n",
        "## Guardar los resultados en un csv\n",
        "db.tan.id <- cbind(df_clear_id$ID, db.tan)\n",
        "write.csv2(db.tan.id, \"archivo.csv\", row.names=TRUE)"
      ],
      "execution_count": null,
      "outputs": []
    }
  ]
}